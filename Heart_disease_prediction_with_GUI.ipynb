{
 "cells": [
  {
   "cell_type": "markdown",
   "metadata": {},
   "source": [
    "# Heart Disease Prediction¶\n",
    "In this machine learning project, I have collected the dataset from Kaggle (https://www.kaggle.com/ronitf/heart-disease-uci) and I will be using Machine Learning to make predictions on whether a person is suffering from Heart Disease or not."
   ]
  },
  {
   "cell_type": "markdown",
   "metadata": {},
   "source": [
    "## Importing Libraries"
   ]
  },
  {
   "cell_type": "code",
   "execution_count": 1,
   "metadata": {},
   "outputs": [],
   "source": [
    "import numpy as np\n",
    "import pandas as pd\n",
    "import matplotlib.pyplot as plt\n",
    "from matplotlib import rcParams\n",
    "from matplotlib.cm import rainbow\n",
    "import seaborn as sns\n",
    "%matplotlib inline\n",
    "\n",
    "import warnings\n",
    "warnings.filterwarnings('ignore')\n",
    "\n",
    "from sklearn.model_selection import train_test_split\n",
    "from sklearn.preprocessing import StandardScaler\n",
    "from sklearn.svm import SVC\n",
    "from sklearn.tree import DecisionTreeClassifier\n",
    "from sklearn.neighbors import KNeighborsClassifier\n",
    "from sklearn.ensemble import RandomForestClassifier"
   ]
  },
  {
   "cell_type": "markdown",
   "metadata": {},
   "source": [
    "## Loading Dataset\n",
    "Now I will load the dataset which I have stored in the local directory with the name 'heart.csv'."
   ]
  },
  {
   "cell_type": "code",
   "execution_count": 2,
   "metadata": {},
   "outputs": [],
   "source": [
    "#loading dataset\n",
    "data = pd.read_csv(\"heart.csv\")"
   ]
  },
  {
   "cell_type": "markdown",
   "metadata": {},
   "source": [
    "## Data Exploration"
   ]
  },
  {
   "cell_type": "code",
   "execution_count": 3,
   "metadata": {},
   "outputs": [
    {
     "name": "stdout",
     "output_type": "stream",
     "text": [
      "<class 'pandas.core.frame.DataFrame'>\n",
      "RangeIndex: 303 entries, 0 to 302\n",
      "Data columns (total 14 columns):\n",
      " #   Column    Non-Null Count  Dtype  \n",
      "---  ------    --------------  -----  \n",
      " 0   age       303 non-null    int64  \n",
      " 1   sex       303 non-null    int64  \n",
      " 2   cp        303 non-null    int64  \n",
      " 3   trestbps  303 non-null    int64  \n",
      " 4   chol      303 non-null    int64  \n",
      " 5   fbs       303 non-null    int64  \n",
      " 6   restecg   303 non-null    int64  \n",
      " 7   thalach   303 non-null    int64  \n",
      " 8   exang     303 non-null    int64  \n",
      " 9   oldpeak   303 non-null    float64\n",
      " 10  slope     303 non-null    int64  \n",
      " 11  ca        303 non-null    int64  \n",
      " 12  thal      303 non-null    int64  \n",
      " 13  target    303 non-null    int64  \n",
      "dtypes: float64(1), int64(13)\n",
      "memory usage: 33.3 KB\n"
     ]
    }
   ],
   "source": [
    "data.info()"
   ]
  },
  {
   "cell_type": "code",
   "execution_count": 4,
   "metadata": {},
   "outputs": [
    {
     "name": "stdout",
     "output_type": "stream",
     "text": [
      "\n",
      "Target wise distribution of dataset:\n",
      "target\n",
      "0    138\n",
      "1    165\n",
      "dtype: int64\n"
     ]
    }
   ],
   "source": [
    "print('\\nTarget wise distribution of dataset:')\n",
    "print(data.groupby('target').size())"
   ]
  },
  {
   "cell_type": "code",
   "execution_count": 5,
   "metadata": {},
   "outputs": [
    {
     "name": "stdout",
     "output_type": "stream",
     "text": [
      "\n",
      "Statistics of dataset: \n"
     ]
    },
    {
     "data": {
      "text/html": [
       "<div>\n",
       "<style scoped>\n",
       "    .dataframe tbody tr th:only-of-type {\n",
       "        vertical-align: middle;\n",
       "    }\n",
       "\n",
       "    .dataframe tbody tr th {\n",
       "        vertical-align: top;\n",
       "    }\n",
       "\n",
       "    .dataframe thead th {\n",
       "        text-align: right;\n",
       "    }\n",
       "</style>\n",
       "<table border=\"1\" class=\"dataframe\">\n",
       "  <thead>\n",
       "    <tr style=\"text-align: right;\">\n",
       "      <th></th>\n",
       "      <th>age</th>\n",
       "      <th>sex</th>\n",
       "      <th>cp</th>\n",
       "      <th>trestbps</th>\n",
       "      <th>chol</th>\n",
       "      <th>fbs</th>\n",
       "      <th>restecg</th>\n",
       "      <th>thalach</th>\n",
       "      <th>exang</th>\n",
       "      <th>oldpeak</th>\n",
       "      <th>slope</th>\n",
       "      <th>ca</th>\n",
       "      <th>thal</th>\n",
       "      <th>target</th>\n",
       "    </tr>\n",
       "  </thead>\n",
       "  <tbody>\n",
       "    <tr>\n",
       "      <th>count</th>\n",
       "      <td>303.000000</td>\n",
       "      <td>303.000000</td>\n",
       "      <td>303.000000</td>\n",
       "      <td>303.000000</td>\n",
       "      <td>303.000000</td>\n",
       "      <td>303.000000</td>\n",
       "      <td>303.000000</td>\n",
       "      <td>303.000000</td>\n",
       "      <td>303.000000</td>\n",
       "      <td>303.000000</td>\n",
       "      <td>303.000000</td>\n",
       "      <td>303.000000</td>\n",
       "      <td>303.000000</td>\n",
       "      <td>303.000000</td>\n",
       "    </tr>\n",
       "    <tr>\n",
       "      <th>mean</th>\n",
       "      <td>54.366337</td>\n",
       "      <td>0.683168</td>\n",
       "      <td>0.966997</td>\n",
       "      <td>131.623762</td>\n",
       "      <td>246.264026</td>\n",
       "      <td>0.148515</td>\n",
       "      <td>0.528053</td>\n",
       "      <td>149.646865</td>\n",
       "      <td>0.326733</td>\n",
       "      <td>1.039604</td>\n",
       "      <td>1.399340</td>\n",
       "      <td>0.729373</td>\n",
       "      <td>2.313531</td>\n",
       "      <td>0.544554</td>\n",
       "    </tr>\n",
       "    <tr>\n",
       "      <th>std</th>\n",
       "      <td>9.082101</td>\n",
       "      <td>0.466011</td>\n",
       "      <td>1.032052</td>\n",
       "      <td>17.538143</td>\n",
       "      <td>51.830751</td>\n",
       "      <td>0.356198</td>\n",
       "      <td>0.525860</td>\n",
       "      <td>22.905161</td>\n",
       "      <td>0.469794</td>\n",
       "      <td>1.161075</td>\n",
       "      <td>0.616226</td>\n",
       "      <td>1.022606</td>\n",
       "      <td>0.612277</td>\n",
       "      <td>0.498835</td>\n",
       "    </tr>\n",
       "    <tr>\n",
       "      <th>min</th>\n",
       "      <td>29.000000</td>\n",
       "      <td>0.000000</td>\n",
       "      <td>0.000000</td>\n",
       "      <td>94.000000</td>\n",
       "      <td>126.000000</td>\n",
       "      <td>0.000000</td>\n",
       "      <td>0.000000</td>\n",
       "      <td>71.000000</td>\n",
       "      <td>0.000000</td>\n",
       "      <td>0.000000</td>\n",
       "      <td>0.000000</td>\n",
       "      <td>0.000000</td>\n",
       "      <td>0.000000</td>\n",
       "      <td>0.000000</td>\n",
       "    </tr>\n",
       "    <tr>\n",
       "      <th>25%</th>\n",
       "      <td>47.500000</td>\n",
       "      <td>0.000000</td>\n",
       "      <td>0.000000</td>\n",
       "      <td>120.000000</td>\n",
       "      <td>211.000000</td>\n",
       "      <td>0.000000</td>\n",
       "      <td>0.000000</td>\n",
       "      <td>133.500000</td>\n",
       "      <td>0.000000</td>\n",
       "      <td>0.000000</td>\n",
       "      <td>1.000000</td>\n",
       "      <td>0.000000</td>\n",
       "      <td>2.000000</td>\n",
       "      <td>0.000000</td>\n",
       "    </tr>\n",
       "    <tr>\n",
       "      <th>50%</th>\n",
       "      <td>55.000000</td>\n",
       "      <td>1.000000</td>\n",
       "      <td>1.000000</td>\n",
       "      <td>130.000000</td>\n",
       "      <td>240.000000</td>\n",
       "      <td>0.000000</td>\n",
       "      <td>1.000000</td>\n",
       "      <td>153.000000</td>\n",
       "      <td>0.000000</td>\n",
       "      <td>0.800000</td>\n",
       "      <td>1.000000</td>\n",
       "      <td>0.000000</td>\n",
       "      <td>2.000000</td>\n",
       "      <td>1.000000</td>\n",
       "    </tr>\n",
       "    <tr>\n",
       "      <th>75%</th>\n",
       "      <td>61.000000</td>\n",
       "      <td>1.000000</td>\n",
       "      <td>2.000000</td>\n",
       "      <td>140.000000</td>\n",
       "      <td>274.500000</td>\n",
       "      <td>0.000000</td>\n",
       "      <td>1.000000</td>\n",
       "      <td>166.000000</td>\n",
       "      <td>1.000000</td>\n",
       "      <td>1.600000</td>\n",
       "      <td>2.000000</td>\n",
       "      <td>1.000000</td>\n",
       "      <td>3.000000</td>\n",
       "      <td>1.000000</td>\n",
       "    </tr>\n",
       "    <tr>\n",
       "      <th>max</th>\n",
       "      <td>77.000000</td>\n",
       "      <td>1.000000</td>\n",
       "      <td>3.000000</td>\n",
       "      <td>200.000000</td>\n",
       "      <td>564.000000</td>\n",
       "      <td>1.000000</td>\n",
       "      <td>2.000000</td>\n",
       "      <td>202.000000</td>\n",
       "      <td>1.000000</td>\n",
       "      <td>6.200000</td>\n",
       "      <td>2.000000</td>\n",
       "      <td>4.000000</td>\n",
       "      <td>3.000000</td>\n",
       "      <td>1.000000</td>\n",
       "    </tr>\n",
       "  </tbody>\n",
       "</table>\n",
       "</div>"
      ],
      "text/plain": [
       "              age         sex          cp    trestbps        chol         fbs  \\\n",
       "count  303.000000  303.000000  303.000000  303.000000  303.000000  303.000000   \n",
       "mean    54.366337    0.683168    0.966997  131.623762  246.264026    0.148515   \n",
       "std      9.082101    0.466011    1.032052   17.538143   51.830751    0.356198   \n",
       "min     29.000000    0.000000    0.000000   94.000000  126.000000    0.000000   \n",
       "25%     47.500000    0.000000    0.000000  120.000000  211.000000    0.000000   \n",
       "50%     55.000000    1.000000    1.000000  130.000000  240.000000    0.000000   \n",
       "75%     61.000000    1.000000    2.000000  140.000000  274.500000    0.000000   \n",
       "max     77.000000    1.000000    3.000000  200.000000  564.000000    1.000000   \n",
       "\n",
       "          restecg     thalach       exang     oldpeak       slope          ca  \\\n",
       "count  303.000000  303.000000  303.000000  303.000000  303.000000  303.000000   \n",
       "mean     0.528053  149.646865    0.326733    1.039604    1.399340    0.729373   \n",
       "std      0.525860   22.905161    0.469794    1.161075    0.616226    1.022606   \n",
       "min      0.000000   71.000000    0.000000    0.000000    0.000000    0.000000   \n",
       "25%      0.000000  133.500000    0.000000    0.000000    1.000000    0.000000   \n",
       "50%      1.000000  153.000000    0.000000    0.800000    1.000000    0.000000   \n",
       "75%      1.000000  166.000000    1.000000    1.600000    2.000000    1.000000   \n",
       "max      2.000000  202.000000    1.000000    6.200000    2.000000    4.000000   \n",
       "\n",
       "             thal      target  \n",
       "count  303.000000  303.000000  \n",
       "mean     2.313531    0.544554  \n",
       "std      0.612277    0.498835  \n",
       "min      0.000000    0.000000  \n",
       "25%      2.000000    0.000000  \n",
       "50%      2.000000    1.000000  \n",
       "75%      3.000000    1.000000  \n",
       "max      3.000000    1.000000  "
      ]
     },
     "execution_count": 5,
     "metadata": {},
     "output_type": "execute_result"
    }
   ],
   "source": [
    "print('\\nStatistics of dataset: ')\n",
    "data.describe()"
   ]
  },
  {
   "cell_type": "markdown",
   "metadata": {},
   "source": [
    "## Data Visualization\n",
    "In order to understand the data, I will be using data visualization techniques like histograms, scatter plot matrix and bar graph."
   ]
  },
  {
   "cell_type": "code",
   "execution_count": 6,
   "metadata": {},
   "outputs": [
    {
     "data": {
      "text/plain": [
       "<matplotlib.axes._subplots.AxesSubplot at 0x13a1b371848>"
      ]
     },
     "execution_count": 6,
     "metadata": {},
     "output_type": "execute_result"
    },
    {
     "data": {
      "image/png": "[encoded data removed]",
      "text/plain": [
       "<Figure size 1440x1008 with 2 Axes>"
      ]
     },
     "metadata": {
      "needs_background": "light"
     },
     "output_type": "display_data"
    }
   ],
   "source": [
    "#Scatter Plot matrix\n",
    "cor = data.corr()\n",
    "fig = plt.figure(figsize=(20,14))\n",
    "sns.heatmap(cor, vmax=0.8, square = True)"
   ]
  },
  {
   "cell_type": "markdown",
   "metadata": {},
   "source": [
    "Taking a look at the correlation matrix above, we can conclude that a few features have negative correlation with the target value while some have positive. Next, I'll take a look at the histograms for each variable."
   ]
  },
  {
   "cell_type": "code",
   "execution_count": 7,
   "metadata": {},
   "outputs": [
    {
     "data": {
      "text/plain": [
       "array([[<matplotlib.axes._subplots.AxesSubplot object at 0x0000013A1BB89C88>,\n",
       "        <matplotlib.axes._subplots.AxesSubplot object at 0x0000013A1BBB80C8>,\n",
       "        <matplotlib.axes._subplots.AxesSubplot object at 0x0000013A1BBEE948>,\n",
       "        <matplotlib.axes._subplots.AxesSubplot object at 0x0000013A1BC26A88>],\n",
       "       [<matplotlib.axes._subplots.AxesSubplot object at 0x0000013A1BC5EBC8>,\n",
       "        <matplotlib.axes._subplots.AxesSubplot object at 0x0000013A1BC99C48>,\n",
       "        <matplotlib.axes._subplots.AxesSubplot object at 0x0000013A1BCD0D48>,\n",
       "        <matplotlib.axes._subplots.AxesSubplot object at 0x0000013A1BD09E88>],\n",
       "       [<matplotlib.axes._subplots.AxesSubplot object at 0x0000013A1BD169C8>,\n",
       "        <matplotlib.axes._subplots.AxesSubplot object at 0x0000013A1BD4EB88>,\n",
       "        <matplotlib.axes._subplots.AxesSubplot object at 0x0000013A1BDBA108>,\n",
       "        <matplotlib.axes._subplots.AxesSubplot object at 0x0000013A1BDF1208>],\n",
       "       [<matplotlib.axes._subplots.AxesSubplot object at 0x0000013A1BE2A308>,\n",
       "        <matplotlib.axes._subplots.AxesSubplot object at 0x0000013A1BE63448>,\n",
       "        <matplotlib.axes._subplots.AxesSubplot object at 0x0000013A1BE99548>,\n",
       "        <matplotlib.axes._subplots.AxesSubplot object at 0x0000013A1BED46C8>]],\n",
       "      dtype=object)"
      ]
     },
     "execution_count": 7,
     "metadata": {},
     "output_type": "execute_result"
    },
    {
     "data": {
      "image/png": "[encoded data removed]",
      "text/plain": [
       "<Figure size 432x288 with 16 Axes>"
      ]
     },
     "metadata": {
      "needs_background": "light"
     },
     "output_type": "display_data"
    }
   ],
   "source": [
    "data.hist()"
   ]
  },
  {
   "cell_type": "markdown",
   "metadata": {},
   "source": [
    "As we can see from the histograms above that different features have different range of distribution which indicates a need of applying feature scaling on the dataset."
   ]
  },
  {
   "cell_type": "code",
   "execution_count": 8,
   "metadata": {},
   "outputs": [
    {
     "data": {
      "text/plain": [
       "Text(0.5, 0, 'Target')"
      ]
     },
     "execution_count": 8,
     "metadata": {},
     "output_type": "execute_result"
    },
    {
     "data": {
      "image/png": "[encoded data removed]",
      "text/plain": [
       "<Figure size 288x288 with 1 Axes>"
      ]
     },
     "metadata": {
      "needs_background": "light"
     },
     "output_type": "display_data"
    }
   ],
   "source": [
    "rcParams['figure.figsize'] = 4, 4\n",
    "plt.bar(data['target'].unique(), data['target'].value_counts(), color=['blue', 'red'])\n",
    "plt.xticks([0,1])\n",
    "plt.title('Target Classes')\n",
    "plt.ylabel('Count of each target class')\n",
    "plt.xlabel('Target')"
   ]
  },
  {
   "cell_type": "markdown",
   "metadata": {},
   "source": [
    "As the sizes of both the target classes are approximately equal there is no need to increasing/dropping data from the dataset."
   ]
  },
  {
   "cell_type": "markdown",
   "metadata": {},
   "source": [
    "## Data Processing\n",
    "As concluded from the various data visualization techniques, there is a need to scale the data. So, I will be applying feature scaling to the dataset using StandardScaler from sklearn."
   ]
  },
  {
   "cell_type": "code",
   "execution_count": 9,
   "metadata": {},
   "outputs": [
    {
     "data": {
      "text/plain": [
       "(303, 31)"
      ]
     },
     "execution_count": 9,
     "metadata": {},
     "output_type": "execute_result"
    }
   ],
   "source": [
    "data = pd.get_dummies(data, columns=['sex', 'cp', 'fbs', 'restecg', 'exang', 'slope', 'ca', 'thal'])\n",
    "scaler = StandardScaler()\n",
    "columns = ['age', 'trestbps', 'chol', 'thalach', 'oldpeak']\n",
    "data[columns] = scaler.fit_transform(data[columns])\n",
    "data.shape"
   ]
  },
  {
   "cell_type": "markdown",
   "metadata": {},
   "source": [
    "The data is now ready for the application of various machine learning models."
   ]
  },
  {
   "cell_type": "markdown",
   "metadata": {},
   "source": [
    "## Machine Learning Models"
   ]
  },
  {
   "cell_type": "code",
   "execution_count": 10,
   "metadata": {},
   "outputs": [],
   "source": [
    "#Splitting the dataset into training data and testing data\n",
    "y = data['target']\n",
    "X = data.drop(['target'], axis=1)\n",
    "X_train, X_test, y_train, y_test = train_test_split(X, y, test_size=0.33, random_state=0)"
   ]
  },
  {
   "cell_type": "markdown",
   "metadata": {},
   "source": [
    "#### K-Neighbor Classifier\n",
    "The accuracy of the algorithm depends on the number of neighbors that we choose. In order to achieve the best accuracy score I will plot a graph between different values of K(neighbors) vs the accuracy score."
   ]
  },
  {
   "cell_type": "code",
   "execution_count": 11,
   "metadata": {},
   "outputs": [],
   "source": [
    "knn_scores = []\n",
    "for i in range(1,21):\n",
    "    knn = KNeighborsClassifier(n_neighbors=i)\n",
    "    knn.fit(X_train,y_train)\n",
    "    knn_scores.append(knn.score(X_test, y_test))"
   ]
  },
  {
   "cell_type": "code",
   "execution_count": 12,
   "metadata": {},
   "outputs": [
    {
     "data": {
      "text/plain": [
       "Text(0.5, 1.0, 'K-Neighbor Classifier scores for different values of K')"
      ]
     },
     "execution_count": 12,
     "metadata": {},
     "output_type": "execute_result"
    },
    {
     "data": {
      "image/png": "[encoded data removed]",
      "text/plain": [
       "<Figure size 1440x1440 with 1 Axes>"
      ]
     },
     "metadata": {
      "needs_background": "light"
     },
     "output_type": "display_data"
    }
   ],
   "source": [
    "#Plotting the grapgh between different values of K(neighbors) vs the accuracy score\n",
    "plt.figure(figsize=(20, 20))\n",
    "plt.plot([k for k in range(1,21)], knn_scores, color='red')\n",
    "for i in range(1,21):\n",
    "    plt.text(i, knn_scores[i-1], (i, knn_scores[i-1]))\n",
    "plt.xticks([i for i in range(1,21)])\n",
    "plt.xlabel('Number of neighbors (K)')\n",
    "plt.ylabel('Accuracy score')\n",
    "plt.title('K-Neighbor Classifier scores for different values of K')"
   ]
  },
  {
   "cell_type": "markdown",
   "metadata": {},
   "source": [
    "From the above graph, it can be seen that maximum score of 0.867 is achieved for K=9."
   ]
  },
  {
   "cell_type": "code",
   "execution_count": 13,
   "metadata": {},
   "outputs": [
    {
     "name": "stdout",
     "output_type": "stream",
     "text": [
      "The score for K-Neighbors Classifier is 87.000000 with 8 neighbors.\n"
     ]
    }
   ],
   "source": [
    "print(\"The score for K-Neighbors Classifier is %f with {} neighbors.\".format(8) %(knn_scores[7]*100))"
   ]
  },
  {
   "cell_type": "markdown",
   "metadata": {},
   "source": [
    "#### Support Vector Classifier \n",
    "Several kernels can be used to classify data in Support Vector Classifier."
   ]
  },
  {
   "cell_type": "code",
   "execution_count": 14,
   "metadata": {},
   "outputs": [],
   "source": [
    "svc_scores = []\n",
    "kernels = ['linear', 'poly', 'rbf', 'sigmoid']\n",
    "for i in range(len(kernels)):\n",
    "    svc = SVC(kernel = kernels[i])\n",
    "    svc.fit(X_train, y_train)\n",
    "    svc_scores.append(svc.score(X_test, y_test))\n",
    "    "
   ]
  },
  {
   "cell_type": "code",
   "execution_count": 15,
   "metadata": {},
   "outputs": [
    {
     "data": {
      "text/plain": [
       "Text(0, 0.5, 'Accuracy score')"
      ]
     },
     "execution_count": 15,
     "metadata": {},
     "output_type": "execute_result"
    },
    {
     "data": {
      "image/png": "[encoded data removed]",
      "text/plain": [
       "<Figure size 360x288 with 1 Axes>"
      ]
     },
     "metadata": {
      "needs_background": "light"
     },
     "output_type": "display_data"
    }
   ],
   "source": [
    "#Plotting the bar grapgh for Support Vector Classifier scores for different kernels\n",
    "plt.figure(figsize=(5,4))\n",
    "plt.bar(kernels, svc_scores, color=['black', 'yellow', 'red', 'grey'])\n",
    "for i in range(len(kernels)):\n",
    "    plt.text(i, svc_scores[i], (svc_scores[i]))\n",
    "plt.title('Support Vector Classifier score for different Kernels')\n",
    "plt.xlabel('Kernels')\n",
    "plt.ylabel('Accuracy score')"
   ]
  },
  {
   "cell_type": "markdown",
   "metadata": {},
   "source": [
    "The linear kernel achieved the best accuracy score."
   ]
  },
  {
   "cell_type": "code",
   "execution_count": 16,
   "metadata": {},
   "outputs": [
    {
     "name": "stdout",
     "output_type": "stream",
     "text": [
      "The score for Support Vector Classifier is 83.0% with linear kernel.\n"
     ]
    }
   ],
   "source": [
    "print(\"The score for Support Vector Classifier is {}% with {} kernel.\".format(svc_scores[0]*100, 'linear'))"
   ]
  },
  {
   "cell_type": "markdown",
   "metadata": {},
   "source": [
    "#### Random Forest Classifier\n",
    "Now, I will vary the estimators in Random Forest Classifier to achieve the best accuracy score. "
   ]
  },
  {
   "cell_type": "code",
   "execution_count": 17,
   "metadata": {},
   "outputs": [],
   "source": [
    "rf_scores = []\n",
    "estimators = [1, 10, 50 ,100, 500, 1000, 5000]\n",
    "for i in range(len(estimators)):\n",
    "    rf = RandomForestClassifier(n_estimators = estimators[i], random_state=0)\n",
    "    rf.fit(X_train, y_train)\n",
    "    rf_scores.append(rf.score(X_test, y_test))"
   ]
  },
  {
   "cell_type": "code",
   "execution_count": 18,
   "metadata": {},
   "outputs": [
    {
     "data": {
      "text/plain": [
       "([<matplotlib.axis.XTick at 0x13a1c65ba08>,\n",
       "  <matplotlib.axis.XTick at 0x13a1c65b0c8>,\n",
       "  <matplotlib.axis.XTick at 0x13a1c66cd08>,\n",
       "  <matplotlib.axis.XTick at 0x13a1c8fe408>,\n",
       "  <matplotlib.axis.XTick at 0x13a1c8fec48>,\n",
       "  <matplotlib.axis.XTick at 0x13a1c90ea48>,\n",
       "  <matplotlib.axis.XTick at 0x13a1c90e308>],\n",
       " <a list of 1 Text xticklabel objects>)"
      ]
     },
     "execution_count": 18,
     "metadata": {},
     "output_type": "execute_result"
    },
    {
     "data": {
      "image/png": "[encoded data removed]",
      "text/plain": [
       "<Figure size 720x576 with 1 Axes>"
      ]
     },
     "metadata": {
      "needs_background": "light"
     },
     "output_type": "display_data"
    }
   ],
   "source": [
    "plt.figure(figsize=(10,8))\n",
    "plt.bar([i for i in range(len(estimators))], rf_scores, color=['grey', 'maroon', 'purple', 'red', 'yellow', 'blue', 'black'], width=0.8)\n",
    "for i in range(len(estimators)):\n",
    "    plt.text(i, rf_scores[i], (estimators[i],rf_scores[i]))\n",
    "plt.title('Random Forest Classifier score for different number of Estimators')\n",
    "plt.xlabel('Number of Estimators')\n",
    "plt.ylabel('Accuracy score')\n",
    "plt.xticks([i for i in range(len(estimators))], labels=[str(estimators[i] for i in estimators)])"
   ]
  },
  {
   "cell_type": "markdown",
   "metadata": {},
   "source": [
    "The best accuracy score is achieved when number of estimators are 100 or 500."
   ]
  },
  {
   "cell_type": "code",
   "execution_count": 19,
   "metadata": {},
   "outputs": [
    {
     "name": "stdout",
     "output_type": "stream",
     "text": [
      "The score for Random Forest Classifier is 84.0% with [100, 500] estimators.\n"
     ]
    }
   ],
   "source": [
    "print(\"The score for Random Forest Classifier is {}% with {} estimators.\".format(rf_scores[3]*100, [100, 500]))"
   ]
  },
  {
   "cell_type": "code",
   "execution_count": 20,
   "metadata": {},
   "outputs": [
    {
     "name": "stdout",
     "output_type": "stream",
     "text": [
      "The score for K-Neighbors Classifier is 87.000000 with 8 neighbors.\n",
      "The score for Support Vector Classifier is 83.0% with linear kernel.\n",
      "The score for Random Forest Classifier is 84.0% with [100, 500] estimators.\n"
     ]
    }
   ],
   "source": [
    "print(\"The score for K-Neighbors Classifier is %f with {} neighbors.\".format(8) %(knn_scores[7]*100))\n",
    "print(\"The score for Support Vector Classifier is {}% with {} kernel.\".format(svc_scores[0]*100, 'linear'))\n",
    "print(\"The score for Random Forest Classifier is {}% with {} estimators.\".format(rf_scores[3]*100, [100, 500]))"
   ]
  },
  {
   "cell_type": "markdown",
   "metadata": {},
   "source": [
    "## Conclusion\n",
    "In this project, I applied machine learning models to predict whether a person is suffering from heart disease or not. After importing the data, I used data visualization techniques for data exploration. Then, I scaled features other than categorical features by creating their dummy variables. Later, I applied 3 machine learning models namely K-Neighbor Classifier, Support Vector Classifer and Random Forest Classifier. I varied parameters in each model to achieve best scores. Finally, K-Neighbor Clssifier model achieved the highest accuracy score of 87% with 8 nearest neighbors."
   ]
  },
  {
   "cell_type": "code",
   "execution_count": 21,
   "metadata": {},
   "outputs": [
    {
     "name": "stdout",
     "output_type": "stream",
     "text": [
      "Model Accuracy: 87.0 %\n"
     ]
    }
   ],
   "source": [
    "final_model = KNeighborsClassifier(n_neighbors = 8)\n",
    "final_model.fit(X_train, y_train)\n",
    "final_model_accuracy = final_model.score(X_test, y_test)\n",
    "print(f\"Model Accuracy: {final_model_accuracy*100} %\")"
   ]
  },
  {
   "cell_type": "markdown",
   "metadata": {},
   "source": [
    "#### Predictor Function\n",
    "Creating a function that will later be used to predict whether a person is suffering from heart disease or not using K-Neighbors Classifier model with 8 neighbors."
   ]
  },
  {
   "cell_type": "code",
   "execution_count": 22,
   "metadata": {},
   "outputs": [],
   "source": [
    "def predict_now(lis):\n",
    "    lis = pd.DataFrame(lis)\n",
    "    lis = pd.get_dummies(lis, columns=['sex', 'cp', 'fbs', 'restecg', 'exang', 'slope', 'ca', 'thal'])\n",
    "    lis = lis.reindex(columns = X_train.columns, fill_value=0)\n",
    "    scale = StandardScaler()\n",
    "    column = ['age', 'trestbps', 'chol', 'thalach', 'oldpeak']\n",
    "    lis[column] = scale.fit_transform(lis[column])\n",
    "    return final_model.predict(lis).item()\n",
    "\n",
    "#lis = {'age': [63], 'sex': [0], 'cp': [0], 'trestbps': [34], 'chol': [334], 'fbs': [1], 'restecg': [0], 'thalach': [44], 'exang': [1], 'oldpeak': [55.0], 'slope': [1], 'ca': [1], 'thal': [6]}\n",
    "#predict_now(lis)"
   ]
  },
  {
   "cell_type": "markdown",
   "metadata": {},
   "source": [
    "## Heart Disease Predictor Application\n",
    "In order to use the above created machine learning model to predict whether a person is likely to suffer from a heart disease or not, we need to build a Graphical User Interface (GUI) wherein the user can enter the required data and get a prediction. I have done this using tkinter GUI of python."
   ]
  },
  {
   "cell_type": "markdown",
   "metadata": {},
   "source": [
    "#### Importing Libraries"
   ]
  },
  {
   "cell_type": "code",
   "execution_count": 23,
   "metadata": {},
   "outputs": [],
   "source": [
    "import tkinter as tk\n",
    "from tkinter import ttk "
   ]
  },
  {
   "cell_type": "markdown",
   "metadata": {},
   "source": [
    "#### Defining Required Functions\n"
   ]
  },
  {
   "cell_type": "code",
   "execution_count": 24,
   "metadata": {},
   "outputs": [],
   "source": [
    "def submit(*args):\n",
    "    try:\n",
    "        final = {\n",
    "            'age': [int(user1.get())], \n",
    "            'sex': [int(user2.get())], \n",
    "            'cp': [int(user3.get())], \n",
    "            'trestbps': [int(user4.get())],\n",
    "            'chol': [int(user5.get())],\n",
    "            'fbs': [int(user6.get())],\n",
    "            'restecg': [int(user7.get())],\n",
    "            'thalach': [int(user8.get())],\n",
    "            'exang': [int(user9.get())],\n",
    "            'oldpeak': [float(user10.get())],\n",
    "            'slope': [int(user11.get())],\n",
    "            'ca': [int(user12.get())],\n",
    "            'thal': [int(user13.get())]\n",
    "            }\n",
    "        result = predict_now(final)\n",
    "        if result==1:\n",
    "            this.set(\"Be careful, you are likely to have a heart disease.\")\n",
    "        else:\n",
    "            this.set(\"Congratulations! You are unlikely to have a heart disease.\")\n",
    "    except ValueError:\n",
    "        pass"
   ]
  },
  {
   "cell_type": "markdown",
   "metadata": {},
   "source": [
    "#### Setting Up the Window"
   ]
  },
  {
   "cell_type": "code",
   "execution_count": 25,
   "metadata": {},
   "outputs": [],
   "source": [
    "try:\n",
    "    from ctypes import windll\n",
    "    windll.shcore.SetProcessDPIAwareness(1)\n",
    "except:\n",
    "    pass\n",
    "\n",
    "root = tk.Tk()\n",
    "root.title(\"Heart Disease Predictor\")\n",
    "\n",
    "user1 = tk.StringVar()\n",
    "user2 = tk.StringVar()\n",
    "user3 = tk.StringVar()\n",
    "user4 = tk.StringVar()\n",
    "user5 = tk.StringVar()\n",
    "user6 = tk.StringVar()\n",
    "user7 = tk.StringVar()\n",
    "user8 = tk.StringVar()\n",
    "user9 = tk.StringVar()\n",
    "user10 = tk.StringVar()\n",
    "user11 = tk.StringVar()\n",
    "user12 = tk.StringVar()\n",
    "user13 = tk.StringVar()\n",
    "this = tk.StringVar(value = \"Submit to get the result.\")\n",
    "\n",
    "main = ttk.Frame(root, padding = (30, 10))\n",
    "main.grid()\n"
   ]
  },
  {
   "cell_type": "markdown",
   "metadata": {},
   "source": [
    "#### Declaring Widgets"
   ]
  },
  {
   "cell_type": "code",
   "execution_count": 26,
   "metadata": {},
   "outputs": [],
   "source": [
    "label1 = ttk.Label(main, text = \"Enter the following details: \")\n",
    "label1.configure(font=(\"helvetica\", 15))\n",
    "label1.grid(row = 0, column = 0, sticky = \"w\")\n",
    "\n",
    "entry1 = ttk.Label(main, text = \"Age: \")\n",
    "user_input1 = ttk.Entry(main, width = 15, textvariable = user1)\n",
    "\n",
    "entry2 = ttk.Label(main, text = \"Sex: \")\n",
    "user_input21 = ttk.Radiobutton(main, text = \"Male\", variable = user2, value = 1)\n",
    "user_input22 = ttk.Radiobutton(main, text = \"Female\", variable = user2, value = 0)\n",
    "\n",
    "entry3 = ttk.Label(main, text = \"Chest pain type: \")\n",
    "user_input31 = ttk.Radiobutton(main, text = \"0\", variable = user3, value = 0)\n",
    "user_input32 = ttk.Radiobutton(main, text = \"1\", variable = user3, value = 1)\n",
    "user_input33 = ttk.Radiobutton(main, text = \"2\", variable = user3, value = 2)\n",
    "user_input34 = ttk.Radiobutton(main, text = \"3\", variable = user3, value = 3)\n",
    "\n",
    "entry4 = ttk.Label(main, text = \"Resting blood pressure (in mm Hg): \")\n",
    "user_input4 = ttk.Entry(main, width = 10, textvariable = user4)\n",
    "\n",
    "entry5 = ttk.Label(main, text = \"Serum cholestoral (in mg/dl): \")\n",
    "user_input5 = ttk.Entry(main, width = 10, textvariable = user5)\n",
    "\n",
    "entry6 = ttk.Label(main, text = \"Fasting blood sugar > 120 mg/dl: \")\n",
    "user_input61 = ttk.Radiobutton(main, text = \"True\", variable = user6, value = 1)\n",
    "user_input62 = ttk.Radiobutton(main, text = \"False\", variable = user6, value = 0)\n",
    "\n",
    "entry7 = ttk.Label(main, text = \"Resting electrocardiographic results: \")\n",
    "user_input71 = ttk.Radiobutton(main, text = \"0\", variable = user7, value = 0)\n",
    "user_input72 = ttk.Radiobutton(main, text = \"1\", variable = user7, value = 1)\n",
    "user_input73 = ttk.Radiobutton(main, text = \"2\", variable = user7, value = 2)\n",
    "\n",
    "entry8 = ttk.Label(main, text = \"Maximum heart rate achieved: \")\n",
    "user_input8 = ttk.Entry(main, width = 10, textvariable = user8)\n",
    "\n",
    "entry9 = ttk.Label(main, text = \"Exercise induced angina: \")\n",
    "user_input91 = ttk.Radiobutton(main, text = \"Yes\", variable = user9, value = 1)\n",
    "user_input92 = ttk.Radiobutton(main, text = \"No\", variable = user9, value = 0)\n",
    "\n",
    "entry10 = ttk.Label(main, text = \"ST depression induced by exercise relative to rest: \")\n",
    "user_input10 = ttk.Entry(main, width = 10, textvariable = user10)\n",
    "\n",
    "entry11 = ttk.Label(main, text = \"Slope of the peak exercise ST segment: \")\n",
    "user_input111 = ttk.Radiobutton(main, text = \"0\", variable = user11, value = 0)\n",
    "user_input112 = ttk.Radiobutton(main, text = \"1\", variable = user11, value = 1)\n",
    "user_input113 = ttk.Radiobutton(main, text = \"2\", variable = user11, value = 2)\n",
    "\n",
    "entry12 = ttk.Label(main, text = \"Number of major vessels (0-3) colored by flourosopy: \")\n",
    "user_input121 = ttk.Radiobutton(main, text = \"0\", variable = user12, value = 0)\n",
    "user_input122 = ttk.Radiobutton(main, text = \"1\", variable = user12, value = 1)\n",
    "user_input123 = ttk.Radiobutton(main, text = \"2\", variable = user12, value = 2)\n",
    "user_input124 = ttk.Radiobutton(main, text = \"3\", variable = user12, value = 3)\n",
    "\n",
    "entry13 = ttk.Label(main, text = \"Thal: \")\n",
    "user_input131 = ttk.Radiobutton(main, text = \"0\", variable = user13, value = 0)\n",
    "user_input132 = ttk.Radiobutton(main, text = \"1\", variable = user13, value = 1)\n",
    "user_input133 = ttk.Radiobutton(main, text = \"2\", variable = user13, value = 2)\n",
    "user_input134 = ttk.Radiobutton(main, text = \"3\", variable = user13, value = 3)\n",
    "\n",
    "button = ttk.Button(main, text = \"Submit\", command = submit)\n",
    "\n",
    "out = ttk.Label(main, textvariable = this)"
   ]
  },
  {
   "cell_type": "markdown",
   "metadata": {},
   "source": [
    "#### Displaying the Widgets"
   ]
  },
  {
   "cell_type": "code",
   "execution_count": 27,
   "metadata": {},
   "outputs": [],
   "source": [
    "main.columnconfigure(1, weight = 1)\n",
    "main.columnconfigure(2, weight = 1)\n",
    "main.columnconfigure(3, weight = 1)\n",
    "main.columnconfigure(4, weight = 1)\n",
    "\n",
    "entry1.grid(row = 1, column = 0, sticky = \"w\", padx = 10, pady = 10)\n",
    "user_input1.grid(row = 1, column = 1, sticky = \"ew\", padx = 10, pady = 10, columnspan = 4)\n",
    "user_input1.focus()\n",
    "\n",
    "entry2.grid(row = 2, column = 0, sticky = \"w\", padx = 10, pady = 10)\n",
    "user_input21.grid(row = 2, column = 1, sticky = \"ew\", padx = 10, pady = 10)\n",
    "user_input22.grid(row = 2, column = 2, sticky = \"ew\", padx = 10, pady = 10)\n",
    "\n",
    "entry3.grid(row = 3, column = 0, sticky = \"w\", padx = 10, pady = 10)\n",
    "user_input31.grid(row = 3, column = 1, sticky = \"ew\", padx = 10, pady = 10)\n",
    "user_input32.grid(row = 3, column = 2, sticky = \"ew\", padx = 10, pady = 10)\n",
    "user_input33.grid(row = 3, column = 3, sticky = \"ew\", padx = 10, pady = 10)\n",
    "user_input34.grid(row = 3, column = 4, sticky = \"ew\", padx = 10, pady = 10)\n",
    "\n",
    "entry4.grid(row = 4, column = 0, sticky = \"w\", padx = 10, pady = 10)\n",
    "user_input4.grid(row = 4, column = 1, sticky = \"ew\", padx = 10, pady = 10, columnspan = 4)\n",
    "\n",
    "entry5.grid(row = 5, column = 0, sticky = \"w\", padx = 10, pady = 10)\n",
    "user_input5.grid(row = 5, column = 1, sticky = \"ew\", padx = 10, pady = 10, columnspan = 4)\n",
    "\n",
    "entry6.grid(row = 6, column = 0, sticky = \"w\", padx = 10, pady = 10)\n",
    "user_input61.grid(row = 6, column = 1, sticky = \"ew\", padx = 10, pady = 10)\n",
    "user_input62.grid(row = 6, column = 2, sticky = \"ew\", padx = 10, pady = 10)\n",
    "\n",
    "entry7.grid(row = 7, column = 0, sticky = \"w\", padx = 10, pady = 10)\n",
    "user_input71.grid(row = 7, column = 1, sticky = \"ew\", padx = 10, pady = 10)\n",
    "user_input72.grid(row = 7, column = 2, sticky = \"ew\", padx = 10, pady = 10)\n",
    "user_input73.grid(row = 7, column = 3, sticky = \"ew\", padx = 10, pady = 10)\n",
    "\n",
    "entry8.grid(row = 8, column = 0, sticky = \"w\", padx = 10, pady = 10)\n",
    "user_input8.grid(row = 8, column = 1, sticky = \"ew\", padx = 10, pady = 10, columnspan = 4)\n",
    "\n",
    "entry9.grid(row = 9, column = 0, sticky = \"w\", padx = 10, pady = 10)\n",
    "user_input91.grid(row = 9, column = 1, sticky = \"ew\", padx = 10, pady = 10)\n",
    "user_input92.grid(row = 9, column = 2, sticky = \"ew\", padx = 10, pady = 10)\n",
    "\n",
    "entry10.grid(row = 10, column = 0, sticky = \"w\", padx = 10, pady = 10)\n",
    "user_input10.grid(row = 10, column = 1, sticky = \"ew\", padx = 10, pady = 10, columnspan = 4)\n",
    "\n",
    "entry11.grid(row = 11, column = 0, sticky = \"w\", padx = 10, pady = 10)\n",
    "user_input111.grid(row = 11, column = 1, sticky = \"ew\", padx = 10, pady = 10)\n",
    "user_input112.grid(row = 11, column = 2, sticky = \"ew\", padx = 10, pady = 10)\n",
    "user_input113.grid(row = 11, column = 3, sticky = \"ew\", padx = 10, pady = 10)\n",
    "\n",
    "entry12.grid(row = 12, column = 0, sticky = \"w\", padx = 10, pady = 10)\n",
    "user_input121.grid(row = 12, column = 1, sticky = \"ew\", padx = 10, pady = 10)\n",
    "user_input122.grid(row = 12, column = 2, sticky = \"ew\", padx = 10, pady = 10)\n",
    "user_input123.grid(row = 12, column = 3, sticky = \"ew\", padx = 10, pady = 10)\n",
    "user_input124.grid(row = 12, column = 4, sticky = \"ew\", padx = 10, pady = 10)\n",
    "\n",
    "entry13.grid(row = 13, column = 0, sticky = \"w\", padx = 10, pady = 10)\n",
    "user_input131.grid(row = 13, column = 1, sticky = \"ew\", padx = 10, pady = 10)\n",
    "user_input132.grid(row = 13, column = 2, sticky = \"ew\", padx = 10, pady = 10)\n",
    "user_input133.grid(row = 13, column = 3, sticky = \"ew\", padx = 10, pady = 10)\n",
    "user_input134.grid(row = 13, column = 4, sticky = \"ew\", padx = 10, pady = 10)\n",
    "\n",
    "button.grid(row = 14, column = 0, columnspan = 5, sticky = \"ew\", padx = 10, pady = 10)\n",
    "\n",
    "out.grid(row = 15, column = 0, columnspan = 5)\n",
    "\n",
    "root.mainloop()"
   ]
  }
 ],
 "metadata": {
  "kernelspec": {
   "display_name": "Python 3",
   "language": "python",
   "name": "python3"
  },
  "language_info": {
   "codemirror_mode": {
    "name": "ipython",
    "version": 3
   },
   "file_extension": ".py",
   "mimetype": "text/x-python",
   "name": "python",
   "nbconvert_exporter": "python",
   "pygments_lexer": "ipython3",
   "version": "3.7.6"
  }
 },
 "nbformat": 4,
 "nbformat_minor": 4
}
